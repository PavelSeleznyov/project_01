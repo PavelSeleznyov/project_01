{
  "nbformat": 4,
  "nbformat_minor": 0,
  "metadata": {
    "colab": {
      "provenance": [],
      "authorship_tag": "ABX9TyOnpYDp0GrZEq4O8bCBX+rp",
      "include_colab_link": true
    },
    "kernelspec": {
      "name": "python3",
      "display_name": "Python 3"
    },
    "language_info": {
      "name": "python"
    }
  },
  "cells": [
    {
      "cell_type": "markdown",
      "metadata": {
        "id": "view-in-github",
        "colab_type": "text"
      },
      "source": [
        "<a href=\"https://colab.research.google.com/github/PavelSeleznyov/project_01/blob/main/Samost_Students_table.ipynb\" target=\"_parent\"><img src=\"https://colab.research.google.com/assets/colab-badge.svg\" alt=\"Open In Colab\"/></a>"
      ]
    },
    {
      "cell_type": "code",
      "execution_count": 1,
      "metadata": {
        "id": "fgMjZDDPyATR"
      },
      "outputs": [],
      "source": [
        "# Создание таблицы Students\n",
        "import sqlite3\n",
        "\n",
        "connection = sqlite3.connect('teatchers.db')\n",
        "cursor = connection.cursor()\n",
        "query = \"\"\"CREATE TABLE Students \n",
        "( \n",
        "  Student_Id INTEGER NOT NULL PRIMARY KEY, \n",
        "  Student_Name TEXT NOT NULL, \n",
        "  School_Id INTEGER NOT NULL \n",
        ");\n",
        "\"\"\"\n",
        "cursor.execute(query)\n",
        "connection.commit()\n",
        "connection.close()"
      ]
    },
    {
      "cell_type": "code",
      "source": [
        "# Наполнение таблицы Students\n",
        "import sqlite3\n",
        "\n",
        "connection = sqlite3.connect('teatchers.db')\n",
        "cursor = connection.cursor()\n",
        "query = \"\"\"INSERT INTO Students (Student_Id, Student_Name, School_Id) \n",
        "VALUES \n",
        "('201', 'Иван', '1'), \n",
        "('202', 'Петр', '2'), \n",
        "('203', 'Анастасия', '3'), \n",
        "('204', 'Игорь', '4');\n",
        "\"\"\"\n",
        "cursor.execute(query)\n",
        "connection.commit()\n",
        "connection.close()\n"
      ],
      "metadata": {
        "id": "KrFezAHQyJBt"
      },
      "execution_count": 2,
      "outputs": []
    },
    {
      "cell_type": "code",
      "source": [
        "# Вывод информации о школе и студенте по Student_ID\n",
        "import sqlite3\n",
        "\n",
        "def get_connection():\n",
        "  connection = sqlite3.connect('teatchers.db')\n",
        "  return connection\n",
        "\n",
        "def close_connection(connection):\n",
        "  if connection:\n",
        "    connection.close()\n",
        "\n",
        "def get_student_detail(student_id):\n",
        "  try:\n",
        "    connection = get_connection()\n",
        "    cursor = connection.cursor()\n",
        "    select_query = \"\"\"SELECT * FROM Students WHERE School_Id = ?\"\"\"\n",
        "    cursor.execute(select_query, (student_id,))\n",
        "    records = cursor.fetchall()\n",
        "    print (\"Данные по Студентам\")\n",
        "    for row in records:\n",
        "      print (\"ID Студента\", row[0])\n",
        "      print (\"Имя Студента\", row[1])\n",
        "      print (\"ID Школы\", row[2])\n",
        "    close_connection(connection)\n",
        "  except (Exception, sqlite3.Error) as error:\n",
        "    print (\"Ошибка в получении данных по школе \", error)\n",
        "\n",
        "print (\"Самостоятельная работа - Вывод информации о школе и студенте по Student_ID\")\n",
        "get_student_detail(1)\n",
        "\n"
      ],
      "metadata": {
        "colab": {
          "base_uri": "https://localhost:8080/"
        },
        "id": "rPsqVSQqySH2",
        "outputId": "26abc11a-659a-4aff-89a4-c99cb0eba06a"
      },
      "execution_count": 3,
      "outputs": [
        {
          "output_type": "stream",
          "name": "stdout",
          "text": [
            "Самостоятельная работа - Вывод информации о школе и студенте по Student_ID\n",
            "Данные по Студентам\n",
            "ID Студента 201\n",
            "Имя Студента Иван\n",
            "ID Школы 1\n"
          ]
        }
      ]
    }
  ]
}