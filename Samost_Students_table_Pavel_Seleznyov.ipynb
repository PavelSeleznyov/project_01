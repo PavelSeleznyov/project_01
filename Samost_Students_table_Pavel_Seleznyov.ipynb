{
  "nbformat": 4,
  "nbformat_minor": 0,
  "metadata": {
    "colab": {
      "provenance": [],
      "mount_file_id": "1glNAI7lJfxoSQZIC9OJM1Co1vv76WIgQ",
      "authorship_tag": "ABX9TyMFrvR+XRkavd7UNWR4ZZ8v",
      "include_colab_link": true
    },
    "kernelspec": {
      "name": "python3",
      "display_name": "Python 3"
    },
    "language_info": {
      "name": "python"
    }
  },
  "cells": [
    {
      "cell_type": "markdown",
      "metadata": {
        "id": "view-in-github",
        "colab_type": "text"
      },
      "source": [
        "<a href=\"https://colab.research.google.com/github/PavelSeleznyov/project_01/blob/main/Samost_Students_table_Pavel_Seleznyov.ipynb\" target=\"_parent\"><img src=\"https://colab.research.google.com/assets/colab-badge.svg\" alt=\"Open In Colab\"/></a>"
      ]
    },
    {
      "cell_type": "code",
      "execution_count": 5,
      "metadata": {
        "id": "fgMjZDDPyATR"
      },
      "outputs": [],
      "source": [
        "# Создание таблицы Students\n",
        "import sqlite3\n",
        "\n",
        "connection = sqlite3.connect('teatchers.db')\n",
        "cursor = connection.cursor()\n",
        "query = \"\"\"CREATE TABLE Students \n",
        "(Student_Id INTEGER NOT NULL PRIMARY KEY, \n",
        "Student_Name TEXT NOT NULL, \n",
        "School_Id INTEGER NOT NULL);\"\"\"\n",
        "cursor.execute(query)\n",
        "connection.commit()\n",
        "connection.close()"
      ]
    },
    {
      "cell_type": "code",
      "source": [
        "# Создание таблицы School\n",
        "import sqlite3\n",
        "connection = sqlite3.connect('teatchers.db')\n",
        "cursor = connection.cursor()\n",
        "query = \"\"\"  CREATE TABLE School\n",
        "(School_Id INTEGER NOT NULL PRIMARY KEY,\n",
        "School_Name TEXT NOT NULL,\n",
        "Place_Count INTEGER NOT NULL); \"\"\"\n",
        "cursor.execute(query)\n",
        "connection.commit()\n",
        "connection.close()"
      ],
      "metadata": {
        "id": "7hsT1BnC6l6a"
      },
      "execution_count": 6,
      "outputs": []
    },
    {
      "cell_type": "code",
      "source": [
        "# Наполнение таблицы Students\n",
        "import sqlite3\n",
        "connection = sqlite3.connect('teatchers.db')\n",
        "cursor = connection.cursor()\n",
        "query = \"\"\"INSERT INTO Students (Student_Id, Student_Name, School_Id) \n",
        "VALUES \n",
        "('201', 'Иван', '1'), \n",
        "('202', 'Петр', '2'), \n",
        "('203', 'Анастасия', '3'), \n",
        "('204', 'Игорь', '4');\"\"\"\n",
        "cursor.execute(query)\n",
        "connection.commit()\n",
        "connection.close()\n"
      ],
      "metadata": {
        "id": "KrFezAHQyJBt"
      },
      "execution_count": 7,
      "outputs": []
    },
    {
      "cell_type": "code",
      "source": [
        "# Наполнение таблицы School\n",
        "import sqlite3\n",
        "connection = sqlite3.connect('teatchers.db')\n",
        "cursor = connection.cursor()\n",
        "query = \"\"\"INSERT INTO School (School_Id , School_Name , Place_Count)\n",
        "VALUES  \n",
        "('1', 'Протон', 200),\n",
        "('2', 'Преспектива', 300),\n",
        "('3', 'Спектр', 400),\n",
        "('4', 'Содружество', 500); \"\"\"\n",
        "cursor.execute(query)\n",
        "connection.commit()\n",
        "connection.close()"
      ],
      "metadata": {
        "id": "_y0_6WtE7J57"
      },
      "execution_count": 8,
      "outputs": []
    },
    {
      "cell_type": "code",
      "source": [
        "# Вывод информации о школе и студенте по Student_ID\n",
        "import sqlite3\n",
        "\n",
        "def get_connection():\n",
        "  connection = sqlite3.connect('teatchers.db')\n",
        "  return connection\n",
        "\n",
        "def close_connection(connection):\n",
        "  if connection:\n",
        "    connection.close()\n",
        "\n",
        "def get_student_detail(student_id):\n",
        "  try:\n",
        "    connection = get_connection()\n",
        "    cursor = connection.cursor()\n",
        "    select_query = \"\"\"SELECT Student_id, Student_Name, Students.School_id, School.School_Name FROM Students\n",
        "       JOIN School ON Students.School_id = school.School_id WHERE Student_Id = ?;\"\"\"\n",
        "    cursor.execute(select_query, (student_id,))\n",
        "    records = cursor.fetchall()\n",
        "    print (\"Данные по Студентам\")\n",
        "    for row in records:\n",
        "      print (\"ID Студента\", row[0])\n",
        "      print (\"Имя Студента\", row[1])\n",
        "      print (\"ID Школы\", row[2])\n",
        "      print (\"Название Школы\", row[3])\n",
        "    close_connection(connection)\n",
        "  except (Exception, sqlite3.Error) as error:\n",
        "    print (\"Ошибка в получении данных по школе \", error)\n",
        "\n",
        "print (\"Самостоятельная работа - Вывод информации о школе и студенте по Student_ID\")\n",
        "get_student_detail(201)\n",
        "get_student_detail(202)\n",
        "get_student_detail(203)\n",
        "get_student_detail(204)\n",
        "\n"
      ],
      "metadata": {
        "colab": {
          "base_uri": "https://localhost:8080/"
        },
        "id": "rPsqVSQqySH2",
        "outputId": "2145d45e-d4c1-40bf-bc79-049feefd8ad0"
      },
      "execution_count": 12,
      "outputs": [
        {
          "output_type": "stream",
          "name": "stdout",
          "text": [
            "Самостоятельная работа - Вывод информации о школе и студенте по Student_ID\n",
            "Данные по Студентам\n",
            "ID Студента 201\n",
            "Имя Студента Иван\n",
            "ID Школы 1\n",
            "Название Школы Протон\n",
            "Данные по Студентам\n",
            "ID Студента 202\n",
            "Имя Студента Петр\n",
            "ID Школы 2\n",
            "Название Школы Преспектива\n",
            "Данные по Студентам\n",
            "ID Студента 203\n",
            "Имя Студента Анастасия\n",
            "ID Школы 3\n",
            "Название Школы Спектр\n",
            "Данные по Студентам\n",
            "ID Студента 204\n",
            "Имя Студента Игорь\n",
            "ID Школы 4\n",
            "Название Школы Содружество\n"
          ]
        }
      ]
    }
  ]
}