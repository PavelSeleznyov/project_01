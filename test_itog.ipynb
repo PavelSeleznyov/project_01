{
  "nbformat": 4,
  "nbformat_minor": 0,
  "metadata": {
    "colab": {
      "provenance": [],
      "mount_file_id": "1-ZFzUGOxAs06SrglQz8KFaXrQvlRm7aa",
      "authorship_tag": "ABX9TyMUP3SrP9nm9sVILunLv7G/",
      "include_colab_link": true
    },
    "kernelspec": {
      "name": "python3",
      "display_name": "Python 3"
    },
    "language_info": {
      "name": "python"
    }
  },
  "cells": [
    {
      "cell_type": "markdown",
      "metadata": {
        "id": "view-in-github",
        "colab_type": "text"
      },
      "source": [
        "<a href=\"https://colab.research.google.com/github/PavelSeleznyov/project_01/blob/main/test_itog.ipynb\" target=\"_parent\"><img src=\"https://colab.research.google.com/assets/colab-badge.svg\" alt=\"Open In Colab\"/></a>"
      ]
    },
    {
      "cell_type": "code",
      "source": [
        "cd /content/drive/MyDrive/"
      ],
      "metadata": {
        "colab": {
          "base_uri": "https://localhost:8080/"
        },
        "id": "UDc1XwcVzZ7B",
        "outputId": "4141141e-d8be-4c25-8b8e-f75df516ca1d"
      },
      "execution_count": 3,
      "outputs": [
        {
          "output_type": "stream",
          "name": "stdout",
          "text": [
            "/content/drive/MyDrive\n"
          ]
        }
      ]
    },
    {
      "cell_type": "code",
      "execution_count": 4,
      "metadata": {
        "colab": {
          "base_uri": "https://localhost:8080/",
          "height": 36
        },
        "id": "1Nr3q9k_zAJ4",
        "outputId": "4f47c8aa-e128-472f-b9a4-4daf3def5309"
      },
      "outputs": [
        {
          "output_type": "execute_result",
          "data": {
            "text/plain": [
              "'1ASXMWO8TPMLNZRS'"
            ],
            "application/vnd.google.colaboratory.intrinsic+json": {
              "type": "string"
            }
          },
          "metadata": {},
          "execution_count": 4
        }
      ],
      "source": [
        "import cred\n",
        "cred.API_KEY"
      ]
    },
    {
      "cell_type": "code",
      "source": [
        "print(0.1 + 0.2 == 0.3)"
      ],
      "metadata": {
        "colab": {
          "base_uri": "https://localhost:8080/"
        },
        "id": "6QOODykkq-vs",
        "outputId": "ab2a0cbd-48e6-429c-9f33-553aa0e51e8f"
      },
      "execution_count": 1,
      "outputs": [
        {
          "output_type": "stream",
          "name": "stdout",
          "text": [
            "False\n"
          ]
        }
      ]
    },
    {
      "cell_type": "code",
      "source": [
        "fnum = (2 * 4) % 3\n",
        "snum = 3 * 2 % 3\n",
        "tnum = 5 * (1 % 2)\n",
        "print ('fnum', fnum, 'snum', snum, 'tnum', tnum)"
      ],
      "metadata": {
        "colab": {
          "base_uri": "https://localhost:8080/"
        },
        "id": "PVrIFXiWyVp6",
        "outputId": "75e4bff8-bd59-4204-8766-2a96a1722b09"
      },
      "execution_count": 3,
      "outputs": [
        {
          "output_type": "stream",
          "name": "stdout",
          "text": [
            "fnum 2 snum 0 tnum 5\n"
          ]
        }
      ]
    },
    {
      "cell_type": "code",
      "source": [
        "print(round(12.5) - round(11.5))"
      ],
      "metadata": {
        "colab": {
          "base_uri": "https://localhost:8080/"
        },
        "id": "f9CMENeDy0pD",
        "outputId": "6c0b8cfb-8496-4045-d010-eba58283268d"
      },
      "execution_count": 4,
      "outputs": [
        {
          "output_type": "stream",
          "name": "stdout",
          "text": [
            "0\n"
          ]
        }
      ]
    },
    {
      "cell_type": "code",
      "source": [
        "print(bool(2022 % 2 + (15 - 4 ** 2)))"
      ],
      "metadata": {
        "colab": {
          "base_uri": "https://localhost:8080/"
        },
        "id": "czSQt6fFy4f5",
        "outputId": "5e0ddf60-e10e-4474-eb3d-8883069896a2"
      },
      "execution_count": 5,
      "outputs": [
        {
          "output_type": "stream",
          "name": "stdout",
          "text": [
            "True\n"
          ]
        }
      ]
    },
    {
      "cell_type": "code",
      "source": [
        "first = bool('False')\n",
        "second = bool()\n",
        "print(first, second)"
      ],
      "metadata": {
        "colab": {
          "base_uri": "https://localhost:8080/"
        },
        "id": "ud7Xo5dFy7lX",
        "outputId": "a8f8835f-8ad1-4411-e409-404c6cf8289c"
      },
      "execution_count": 6,
      "outputs": [
        {
          "output_type": "stream",
          "name": "stdout",
          "text": [
            "True False\n"
          ]
        }
      ]
    },
    {
      "cell_type": "code",
      "source": [
        "fvar = 1.0\n",
        "svar = (fvar <= 1.0) and isinstance(fvar, float)\n",
        "print (svar)"
      ],
      "metadata": {
        "colab": {
          "base_uri": "https://localhost:8080/"
        },
        "id": "1lzBOrvFzlLs",
        "outputId": "83cdea13-1e67-4583-9278-7b253da4582f"
      },
      "execution_count": 7,
      "outputs": [
        {
          "output_type": "stream",
          "name": "stdout",
          "text": [
            "True\n"
          ]
        }
      ]
    },
    {
      "cell_type": "code",
      "source": [
        "one = '1'.isalpha()\n",
        "print(int(one))\n"
      ],
      "metadata": {
        "colab": {
          "base_uri": "https://localhost:8080/"
        },
        "id": "gPs3S6Lnz6ZJ",
        "outputId": "bcdfe869-d253-48cd-fec1-8b9ffa3e4f34"
      },
      "execution_count": 8,
      "outputs": [
        {
          "output_type": "stream",
          "name": "stdout",
          "text": [
            "0\n"
          ]
        }
      ]
    },
    {
      "cell_type": "code",
      "source": [
        "var = 3\n",
        "print(type(id(var)))"
      ],
      "metadata": {
        "colab": {
          "base_uri": "https://localhost:8080/"
        },
        "id": "EhEWptec0FJh",
        "outputId": "4f985437-5061-46cd-d50d-8e1a7da5a64b"
      },
      "execution_count": 9,
      "outputs": [
        {
          "output_type": "stream",
          "name": "stdout",
          "text": [
            "<class 'int'>\n"
          ]
        }
      ]
    },
    {
      "cell_type": "code",
      "source": [
        "fvar = 'Hello'\n",
        "savr = 'World'\n",
        "result = f'{fvar}{savr}'\n",
        "print (result)"
      ],
      "metadata": {
        "colab": {
          "base_uri": "https://localhost:8080/"
        },
        "id": "u0-D8n3x0N7r",
        "outputId": "2c88e879-7cc0-4507-ba08-960e4abc1cf3"
      },
      "execution_count": 10,
      "outputs": [
        {
          "output_type": "stream",
          "name": "stdout",
          "text": [
            "HelloWorld\n"
          ]
        }
      ]
    },
    {
      "cell_type": "code",
      "source": [
        "lst = [1,2,3]\n",
        "lst_cpy = lst.copy()\n",
        "print(lst_cpy is lst)"
      ],
      "metadata": {
        "colab": {
          "base_uri": "https://localhost:8080/"
        },
        "id": "Gd-QsrwU0f6D",
        "outputId": "caf0b88a-0218-4c2d-e161-da1ae0ab54a3"
      },
      "execution_count": 11,
      "outputs": [
        {
          "output_type": "stream",
          "name": "stdout",
          "text": [
            "False\n"
          ]
        }
      ]
    },
    {
      "cell_type": "code",
      "source": [
        "lst = [13, 56, 17]\n",
        "lst.append([87])\n",
        "lst.extend([45, 67])\n",
        "print(lst)"
      ],
      "metadata": {
        "colab": {
          "base_uri": "https://localhost:8080/"
        },
        "id": "8LydNm9f0vO5",
        "outputId": "a38f9305-0e56-4127-9d0c-0276e2cadaf6"
      },
      "execution_count": 12,
      "outputs": [
        {
          "output_type": "stream",
          "name": "stdout",
          "text": [
            "[13, 56, 17, [87], 45, 67]\n"
          ]
        }
      ]
    },
    {
      "cell_type": "code",
      "source": [
        "arr = [1,2,3,4,5]\n",
        "if arr[2] < arr[-1]:\n",
        "  print(1>2 or 2>1 and 1)\n",
        "else:\n",
        "  print(1 or 0>1)"
      ],
      "metadata": {
        "colab": {
          "base_uri": "https://localhost:8080/"
        },
        "id": "T6Vx51cT308e",
        "outputId": "8f4bd962-8bc9-4d7c-d585-4eab75fc56e2"
      },
      "execution_count": 13,
      "outputs": [
        {
          "output_type": "stream",
          "name": "stdout",
          "text": [
            "1\n"
          ]
        }
      ]
    },
    {
      "cell_type": "code",
      "source": [
        "dict = {'one': 1, 'two': 2, 'three': 3}\n",
        "print (dict)\n",
        "\n",
        "dict.pop('two')\n",
        "print (dict)\n"
      ],
      "metadata": {
        "colab": {
          "base_uri": "https://localhost:8080/"
        },
        "id": "N1P_svCM5ark",
        "outputId": "fa1236f1-d528-42ad-f22a-a012ec0db837"
      },
      "execution_count": 18,
      "outputs": [
        {
          "output_type": "stream",
          "name": "stdout",
          "text": [
            "{'one': 1, 'two': 2, 'three': 3}\n",
            "{'one': 1, 'three': 3}\n"
          ]
        }
      ]
    },
    {
      "cell_type": "code",
      "source": [
        "dict = {'milk': 50, 'celery': 40}\n",
        "print (dict)"
      ],
      "metadata": {
        "colab": {
          "base_uri": "https://localhost:8080/"
        },
        "id": "-q6mYsSQ6Bsx",
        "outputId": "8de978a9-4ac8-424f-d487-e231fc70046b"
      },
      "execution_count": 19,
      "outputs": [
        {
          "output_type": "stream",
          "name": "stdout",
          "text": [
            "{'milk': 50, 'celery': 40}\n"
          ]
        }
      ]
    },
    {
      "cell_type": "code",
      "source": [
        "d = dict(milk=50, celery=40}\n",
        "print (dict)\n",
        "# >>> Error - SyntaxError: invalid syntax"
      ],
      "metadata": {
        "id": "dr5cfykc6Qz5"
      },
      "execution_count": null,
      "outputs": []
    },
    {
      "cell_type": "code",
      "source": [
        "d = {[('milk', 50), ('celery'=40)]}\n",
        "print (dict)\n",
        "# >>> Error - SyntaxError: invalid syntax"
      ],
      "metadata": {
        "id": "wv-kEi4M6fEv"
      },
      "execution_count": null,
      "outputs": []
    },
    {
      "cell_type": "code",
      "source": [
        "tup = (1,2,3,4)\n",
        "tup[0] = 0\n",
        "print(tup)\n",
        "# >>> Error"
      ],
      "metadata": {
        "id": "X7UW7zsg66gV"
      },
      "execution_count": null,
      "outputs": []
    },
    {
      "cell_type": "code",
      "source": [
        "lst = [0,1,2,3]\n",
        "for lst[0] in lst:\n",
        "  print(lst[0])"
      ],
      "metadata": {
        "colab": {
          "base_uri": "https://localhost:8080/"
        },
        "id": "dRkb1Wgf7J6L",
        "outputId": "c2c9382c-21c1-41c8-9188-0c60866c1264"
      },
      "execution_count": 25,
      "outputs": [
        {
          "output_type": "stream",
          "name": "stdout",
          "text": [
            "0\n",
            "1\n",
            "2\n",
            "3\n"
          ]
        }
      ]
    },
    {
      "cell_type": "code",
      "source": [
        "arr = [\n",
        "    [1,2,3],\n",
        "    [4,5,6],\n",
        "    [7,8,9]\n",
        "    ]\n",
        "print([arr[i][i] for i in range(len(arr))])"
      ],
      "metadata": {
        "colab": {
          "base_uri": "https://localhost:8080/"
        },
        "id": "4cllL9T27aYz",
        "outputId": "eff65035-1379-4747-d9fe-b3c64ce39bee"
      },
      "execution_count": 27,
      "outputs": [
        {
          "output_type": "stream",
          "name": "stdout",
          "text": [
            "[1, 5, 9]\n"
          ]
        }
      ]
    },
    {
      "cell_type": "code",
      "source": [
        "title = 'Программирование на Python'\n",
        "for i in range(title):\n",
        "  print(i)\n",
        "  break\n",
        "  # error"
      ],
      "metadata": {
        "id": "r4fKUTco72El"
      },
      "execution_count": null,
      "outputs": []
    },
    {
      "cell_type": "code",
      "source": [
        "lst = [10,15,20]\n",
        "for i in lst:\n",
        "  if i % 2:\n",
        "    lst.append(i)\n",
        "\n",
        "print (lst)\n",
        "# neverending cycle!!!! dont start on VS or any local app"
      ],
      "metadata": {
        "id": "4-bp9aSP8Iug"
      },
      "execution_count": null,
      "outputs": []
    },
    {
      "cell_type": "code",
      "source": [
        "alst = [1,2,3]\n",
        "blst = [1,2,3]\n",
        "def afnc(alst):\n",
        "  alst = alst * 2\n",
        "  return None\n",
        "\n",
        "def bfnc(blst): \n",
        "  blst = blst.extend([1,2,3])\n",
        "  return None\n",
        "\n",
        "afnc(alst)\n",
        "bfnc(blst)\n",
        "\n",
        "print(alst, 'и', blst)\n"
      ],
      "metadata": {
        "colab": {
          "base_uri": "https://localhost:8080/"
        },
        "id": "R3nNeSK88oH3",
        "outputId": "2ac6d942-7bb8-47a8-c054-5a1e62cd6d06"
      },
      "execution_count": 30,
      "outputs": [
        {
          "output_type": "stream",
          "name": "stdout",
          "text": [
            "[1, 2, 3] и [1, 2, 3, 1, 2, 3]\n"
          ]
        }
      ]
    },
    {
      "cell_type": "code",
      "source": [
        "def attentivness(farg, sarg, true, false):\n",
        "  if farg == true and sarg == false:\n",
        "    print('True')\n",
        "  else:\n",
        "    print('False')\n",
        "\n",
        "attentivness(1, 0, False, True)   "
      ],
      "metadata": {
        "colab": {
          "base_uri": "https://localhost:8080/"
        },
        "id": "gNxQTYrI9ZnB",
        "outputId": "3655540b-087e-490c-d5a4-87b7540ec280"
      },
      "execution_count": 31,
      "outputs": [
        {
          "output_type": "stream",
          "name": "stdout",
          "text": [
            "False\n"
          ]
        }
      ]
    },
    {
      "cell_type": "code",
      "source": [
        "def hmm(itm = []):\n",
        "  itm.append(1)\n",
        "  return itm\n",
        "\n",
        "for _ in range(2):\n",
        "  hmm()\n",
        "print(hmm())"
      ],
      "metadata": {
        "colab": {
          "base_uri": "https://localhost:8080/"
        },
        "id": "QpQYBBfp-Eg8",
        "outputId": "9773dca6-6dbe-4543-c0fb-2918b262cb18"
      },
      "execution_count": 32,
      "outputs": [
        {
          "output_type": "stream",
          "name": "stdout",
          "text": [
            "[1, 1, 1]\n"
          ]
        }
      ]
    },
    {
      "cell_type": "code",
      "source": [
        "class FClass():\n",
        "  def disp(self):\n",
        "    print(\"FClass disp()\")\n",
        "\n",
        "class SClass(FClass):\n",
        "  pass\n",
        "\n",
        "var = SClass()\n",
        "var.disp()"
      ],
      "metadata": {
        "colab": {
          "base_uri": "https://localhost:8080/"
        },
        "id": "qsq1vctw-ZDX",
        "outputId": "0c53bd1f-27fe-43ff-d6c8-8bb41cfccb2f"
      },
      "execution_count": 33,
      "outputs": [
        {
          "output_type": "stream",
          "name": "stdout",
          "text": [
            "FClass disp()\n"
          ]
        }
      ]
    },
    {
      "cell_type": "code",
      "source": [
        "class Python:\n",
        "  __num = 0\n",
        "print(Python().__num) # double underline"
      ],
      "metadata": {
        "id": "X2K3Muet-6_H"
      },
      "execution_count": null,
      "outputs": []
    },
    {
      "cell_type": "code",
      "source": [],
      "metadata": {
        "id": "fQ0Aev_N_izR"
      },
      "execution_count": null,
      "outputs": []
    }
  ]
}