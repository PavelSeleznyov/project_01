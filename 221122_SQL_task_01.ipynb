{
  "nbformat": 4,
  "nbformat_minor": 0,
  "metadata": {
    "colab": {
      "provenance": [],
      "authorship_tag": "ABX9TyOpMAJ5GiB/73SqT7ia0UqZ",
      "include_colab_link": true
    },
    "kernelspec": {
      "name": "python3",
      "display_name": "Python 3"
    },
    "language_info": {
      "name": "python"
    }
  },
  "cells": [
    {
      "cell_type": "markdown",
      "metadata": {
        "id": "view-in-github",
        "colab_type": "text"
      },
      "source": [
        "<a href=\"https://colab.research.google.com/github/PavelSeleznyov/project_01/blob/main/221122_SQL_task_01.ipynb\" target=\"_parent\"><img src=\"https://colab.research.google.com/assets/colab-badge.svg\" alt=\"Open In Colab\"/></a>"
      ]
    },
    {
      "cell_type": "code",
      "execution_count": null,
      "metadata": {
        "id": "JsYTd9dcel7I"
      },
      "outputs": [],
      "source": [
        "\n",
        "import pandas as pd\n",
        "import numpy as np\n",
        "# print(pd.__version__) # Узнать версию pandas\n",
        "xl = pd.read_excel(\"data.xlsx\", sheet_name = 'Sheet1') \n",
        "print (xl)\n",
        "#print (df) # Отобразить полученный датафрейм\n",
        "xl.describe(include=[object]) # Вывести описание датафрейма (excel)\n"
      ]
    },
    {
      "cell_type": "code",
      "source": [
        "\n",
        "import pandas as pd\n",
        "import numpy as np\n",
        "# print(pd.__version__) # Узнать версию pandas\n",
        "df = pd.read_excel(\"data.xlsx\", sheet_name = 'Sheet1') \n",
        "#print (xl)\n",
        "#print (df)\n",
        "x = df[df['sku'] == 'Капуста']\n",
        "print (x)\n",
        "x.to_csv('test_01.csv')"
      ],
      "metadata": {
        "colab": {
          "base_uri": "https://localhost:8080/"
        },
        "id": "_lTMbxjgkkQs",
        "outputId": "4fc79a5a-915d-4463-e040-175f42eaee5d"
      },
      "execution_count": 15,
      "outputs": [
        {
          "output_type": "stream",
          "name": "stdout",
          "text": [
            "     №      sku  volume  price  priceoforder\n",
            "2    3  Капуста      35     12           420\n",
            "5    6  Капуста      36     12           432\n",
            "8    9  Капуста       5     12            60\n",
            "17  18  Капуста      80     12           960\n",
            "22  23  Капуста      60     12           720\n",
            "25  26  Капуста      35     12           420\n",
            "28  29  Капуста      36     12           432\n",
            "31  32  Капуста       5     12            60\n",
            "36  37  Капуста      80     12           960\n"
          ]
        }
      ]
    }
  ]
}